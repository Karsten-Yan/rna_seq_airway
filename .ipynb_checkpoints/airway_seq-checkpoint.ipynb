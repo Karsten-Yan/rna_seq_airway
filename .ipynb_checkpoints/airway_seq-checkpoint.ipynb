{
 "cells": [
  {
   "cell_type": "code",
   "execution_count": 1,
   "metadata": {
    "ExecuteTime": {
     "end_time": "2020-07-15T08:40:53.181689Z",
     "start_time": "2020-07-15T08:40:51.048062Z"
    }
   },
   "outputs": [],
   "source": [
    "import pandas as pd\n",
    "import numpy as np\n",
    "import matplotlib.pyplot as plt\n",
    "import seaborn as sns"
   ]
  },
  {
   "cell_type": "code",
   "execution_count": 2,
   "metadata": {
    "ExecuteTime": {
     "end_time": "2020-07-15T08:40:53.257706Z",
     "start_time": "2020-07-15T08:40:53.182689Z"
    }
   },
   "outputs": [],
   "source": [
    "df_orig = pd.read_csv(\"airway_scaledcounts.csv\")\n",
    "df_meta = pd.read_csv(\"airway_metadata.csv\")"
   ]
  },
  {
   "cell_type": "code",
   "execution_count": 3,
   "metadata": {
    "ExecuteTime": {
     "end_time": "2020-07-15T08:40:53.280711Z",
     "start_time": "2020-07-15T08:40:53.258705Z"
    }
   },
   "outputs": [],
   "source": [
    "data = pd.concat([df_meta, df_orig.set_index(\"ensgene\").T.reset_index()], axis = 1)"
   ]
  },
  {
   "cell_type": "code",
   "execution_count": 4,
   "metadata": {
    "ExecuteTime": {
     "end_time": "2020-07-15T08:41:20.588892Z",
     "start_time": "2020-07-15T08:40:53.281711Z"
    }
   },
   "outputs": [],
   "source": [
    "clean_data = pd.DataFrame()\n",
    "for c in data.columns:\n",
    "    if data[c].dtype == object:\n",
    "        clean_data[c] = data[c]\n",
    "    if data[c].dtype == float and np.sum(data[c]) > 10:\n",
    "        clean_data[c] = data[c]"
   ]
  },
  {
   "cell_type": "code",
   "execution_count": 7,
   "metadata": {
    "ExecuteTime": {
     "end_time": "2020-07-15T08:43:32.731269Z",
     "start_time": "2020-07-15T08:43:32.704253Z"
    }
   },
   "outputs": [
    {
     "data": {
      "text/html": [
       "<div>\n",
       "<style scoped>\n",
       "    .dataframe tbody tr th:only-of-type {\n",
       "        vertical-align: middle;\n",
       "    }\n",
       "\n",
       "    .dataframe tbody tr th {\n",
       "        vertical-align: top;\n",
       "    }\n",
       "\n",
       "    .dataframe thead th {\n",
       "        text-align: right;\n",
       "    }\n",
       "</style>\n",
       "<table border=\"1\" class=\"dataframe\">\n",
       "  <thead>\n",
       "    <tr style=\"text-align: right;\">\n",
       "      <th></th>\n",
       "      <th>id</th>\n",
       "      <th>dex</th>\n",
       "      <th>celltype</th>\n",
       "      <th>geo_id</th>\n",
       "      <th>index</th>\n",
       "      <th>ENSG00000000003</th>\n",
       "      <th>ENSG00000000419</th>\n",
       "      <th>ENSG00000000457</th>\n",
       "      <th>ENSG00000000460</th>\n",
       "      <th>ENSG00000000971</th>\n",
       "      <th>...</th>\n",
       "      <th>ENSG00000283070</th>\n",
       "      <th>ENSG00000283085</th>\n",
       "      <th>ENSG00000283086</th>\n",
       "      <th>ENSG00000283087</th>\n",
       "      <th>ENSG00000283088</th>\n",
       "      <th>ENSG00000283091</th>\n",
       "      <th>ENSG00000283094</th>\n",
       "      <th>ENSG00000283100</th>\n",
       "      <th>ENSG00000283101</th>\n",
       "      <th>ENSG00000283104</th>\n",
       "    </tr>\n",
       "  </thead>\n",
       "  <tbody>\n",
       "    <tr>\n",
       "      <th>0</th>\n",
       "      <td>SRR1039508</td>\n",
       "      <td>control</td>\n",
       "      <td>N61311</td>\n",
       "      <td>GSM1275862</td>\n",
       "      <td>SRR1039508</td>\n",
       "      <td>723.0</td>\n",
       "      <td>467.0</td>\n",
       "      <td>347.0</td>\n",
       "      <td>96.0</td>\n",
       "      <td>3413.0</td>\n",
       "      <td>...</td>\n",
       "      <td>4.0</td>\n",
       "      <td>1260.0</td>\n",
       "      <td>4.0</td>\n",
       "      <td>190.0</td>\n",
       "      <td>1.0</td>\n",
       "      <td>51.0</td>\n",
       "      <td>2187.0</td>\n",
       "      <td>647.0</td>\n",
       "      <td>3.0</td>\n",
       "      <td>71.0</td>\n",
       "    </tr>\n",
       "    <tr>\n",
       "      <th>1</th>\n",
       "      <td>SRR1039509</td>\n",
       "      <td>treated</td>\n",
       "      <td>N61311</td>\n",
       "      <td>GSM1275863</td>\n",
       "      <td>SRR1039509</td>\n",
       "      <td>486.0</td>\n",
       "      <td>523.0</td>\n",
       "      <td>258.0</td>\n",
       "      <td>81.0</td>\n",
       "      <td>3916.0</td>\n",
       "      <td>...</td>\n",
       "      <td>0.0</td>\n",
       "      <td>774.0</td>\n",
       "      <td>5.0</td>\n",
       "      <td>182.0</td>\n",
       "      <td>13.0</td>\n",
       "      <td>42.0</td>\n",
       "      <td>1536.0</td>\n",
       "      <td>570.0</td>\n",
       "      <td>3.0</td>\n",
       "      <td>70.0</td>\n",
       "    </tr>\n",
       "    <tr>\n",
       "      <th>2</th>\n",
       "      <td>SRR1039512</td>\n",
       "      <td>control</td>\n",
       "      <td>N052611</td>\n",
       "      <td>GSM1275866</td>\n",
       "      <td>SRR1039512</td>\n",
       "      <td>904.0</td>\n",
       "      <td>616.0</td>\n",
       "      <td>364.0</td>\n",
       "      <td>73.0</td>\n",
       "      <td>6000.0</td>\n",
       "      <td>...</td>\n",
       "      <td>7.0</td>\n",
       "      <td>1034.0</td>\n",
       "      <td>10.0</td>\n",
       "      <td>332.0</td>\n",
       "      <td>72.0</td>\n",
       "      <td>79.0</td>\n",
       "      <td>2491.0</td>\n",
       "      <td>645.0</td>\n",
       "      <td>9.0</td>\n",
       "      <td>116.0</td>\n",
       "    </tr>\n",
       "    <tr>\n",
       "      <th>3</th>\n",
       "      <td>SRR1039513</td>\n",
       "      <td>treated</td>\n",
       "      <td>N052611</td>\n",
       "      <td>GSM1275867</td>\n",
       "      <td>SRR1039513</td>\n",
       "      <td>445.0</td>\n",
       "      <td>371.0</td>\n",
       "      <td>237.0</td>\n",
       "      <td>66.0</td>\n",
       "      <td>4308.0</td>\n",
       "      <td>...</td>\n",
       "      <td>6.0</td>\n",
       "      <td>437.0</td>\n",
       "      <td>1.0</td>\n",
       "      <td>187.0</td>\n",
       "      <td>13.0</td>\n",
       "      <td>34.0</td>\n",
       "      <td>1253.0</td>\n",
       "      <td>369.0</td>\n",
       "      <td>10.0</td>\n",
       "      <td>45.0</td>\n",
       "    </tr>\n",
       "    <tr>\n",
       "      <th>4</th>\n",
       "      <td>SRR1039516</td>\n",
       "      <td>control</td>\n",
       "      <td>N080611</td>\n",
       "      <td>GSM1275870</td>\n",
       "      <td>SRR1039516</td>\n",
       "      <td>1170.0</td>\n",
       "      <td>582.0</td>\n",
       "      <td>318.0</td>\n",
       "      <td>118.0</td>\n",
       "      <td>6424.0</td>\n",
       "      <td>...</td>\n",
       "      <td>5.0</td>\n",
       "      <td>1057.0</td>\n",
       "      <td>6.0</td>\n",
       "      <td>332.0</td>\n",
       "      <td>47.0</td>\n",
       "      <td>87.0</td>\n",
       "      <td>2316.0</td>\n",
       "      <td>688.0</td>\n",
       "      <td>4.0</td>\n",
       "      <td>95.0</td>\n",
       "    </tr>\n",
       "    <tr>\n",
       "      <th>5</th>\n",
       "      <td>SRR1039517</td>\n",
       "      <td>treated</td>\n",
       "      <td>N080611</td>\n",
       "      <td>GSM1275871</td>\n",
       "      <td>SRR1039517</td>\n",
       "      <td>1097.0</td>\n",
       "      <td>781.0</td>\n",
       "      <td>447.0</td>\n",
       "      <td>94.0</td>\n",
       "      <td>10723.0</td>\n",
       "      <td>...</td>\n",
       "      <td>5.0</td>\n",
       "      <td>1129.0</td>\n",
       "      <td>10.0</td>\n",
       "      <td>390.0</td>\n",
       "      <td>62.0</td>\n",
       "      <td>96.0</td>\n",
       "      <td>2026.0</td>\n",
       "      <td>670.0</td>\n",
       "      <td>13.0</td>\n",
       "      <td>83.0</td>\n",
       "    </tr>\n",
       "    <tr>\n",
       "      <th>6</th>\n",
       "      <td>SRR1039520</td>\n",
       "      <td>control</td>\n",
       "      <td>N061011</td>\n",
       "      <td>GSM1275874</td>\n",
       "      <td>SRR1039520</td>\n",
       "      <td>806.0</td>\n",
       "      <td>417.0</td>\n",
       "      <td>330.0</td>\n",
       "      <td>102.0</td>\n",
       "      <td>5039.0</td>\n",
       "      <td>...</td>\n",
       "      <td>1.0</td>\n",
       "      <td>1009.0</td>\n",
       "      <td>3.0</td>\n",
       "      <td>156.0</td>\n",
       "      <td>36.0</td>\n",
       "      <td>55.0</td>\n",
       "      <td>2000.0</td>\n",
       "      <td>550.0</td>\n",
       "      <td>7.0</td>\n",
       "      <td>84.0</td>\n",
       "    </tr>\n",
       "    <tr>\n",
       "      <th>7</th>\n",
       "      <td>SRR1039521</td>\n",
       "      <td>treated</td>\n",
       "      <td>N061011</td>\n",
       "      <td>GSM1275875</td>\n",
       "      <td>SRR1039521</td>\n",
       "      <td>604.0</td>\n",
       "      <td>509.0</td>\n",
       "      <td>324.0</td>\n",
       "      <td>74.0</td>\n",
       "      <td>7803.0</td>\n",
       "      <td>...</td>\n",
       "      <td>3.0</td>\n",
       "      <td>722.0</td>\n",
       "      <td>2.0</td>\n",
       "      <td>239.0</td>\n",
       "      <td>33.0</td>\n",
       "      <td>51.0</td>\n",
       "      <td>1529.0</td>\n",
       "      <td>572.0</td>\n",
       "      <td>7.0</td>\n",
       "      <td>79.0</td>\n",
       "    </tr>\n",
       "  </tbody>\n",
       "</table>\n",
       "<p>8 rows × 19088 columns</p>\n",
       "</div>"
      ],
      "text/plain": [
       "           id      dex celltype      geo_id       index  ENSG00000000003  \\\n",
       "0  SRR1039508  control   N61311  GSM1275862  SRR1039508            723.0   \n",
       "1  SRR1039509  treated   N61311  GSM1275863  SRR1039509            486.0   \n",
       "2  SRR1039512  control  N052611  GSM1275866  SRR1039512            904.0   \n",
       "3  SRR1039513  treated  N052611  GSM1275867  SRR1039513            445.0   \n",
       "4  SRR1039516  control  N080611  GSM1275870  SRR1039516           1170.0   \n",
       "5  SRR1039517  treated  N080611  GSM1275871  SRR1039517           1097.0   \n",
       "6  SRR1039520  control  N061011  GSM1275874  SRR1039520            806.0   \n",
       "7  SRR1039521  treated  N061011  GSM1275875  SRR1039521            604.0   \n",
       "\n",
       "   ENSG00000000419  ENSG00000000457  ENSG00000000460  ENSG00000000971  ...  \\\n",
       "0            467.0            347.0             96.0           3413.0  ...   \n",
       "1            523.0            258.0             81.0           3916.0  ...   \n",
       "2            616.0            364.0             73.0           6000.0  ...   \n",
       "3            371.0            237.0             66.0           4308.0  ...   \n",
       "4            582.0            318.0            118.0           6424.0  ...   \n",
       "5            781.0            447.0             94.0          10723.0  ...   \n",
       "6            417.0            330.0            102.0           5039.0  ...   \n",
       "7            509.0            324.0             74.0           7803.0  ...   \n",
       "\n",
       "   ENSG00000283070  ENSG00000283085  ENSG00000283086  ENSG00000283087  \\\n",
       "0              4.0           1260.0              4.0            190.0   \n",
       "1              0.0            774.0              5.0            182.0   \n",
       "2              7.0           1034.0             10.0            332.0   \n",
       "3              6.0            437.0              1.0            187.0   \n",
       "4              5.0           1057.0              6.0            332.0   \n",
       "5              5.0           1129.0             10.0            390.0   \n",
       "6              1.0           1009.0              3.0            156.0   \n",
       "7              3.0            722.0              2.0            239.0   \n",
       "\n",
       "   ENSG00000283088  ENSG00000283091  ENSG00000283094  ENSG00000283100  \\\n",
       "0              1.0             51.0           2187.0            647.0   \n",
       "1             13.0             42.0           1536.0            570.0   \n",
       "2             72.0             79.0           2491.0            645.0   \n",
       "3             13.0             34.0           1253.0            369.0   \n",
       "4             47.0             87.0           2316.0            688.0   \n",
       "5             62.0             96.0           2026.0            670.0   \n",
       "6             36.0             55.0           2000.0            550.0   \n",
       "7             33.0             51.0           1529.0            572.0   \n",
       "\n",
       "   ENSG00000283101  ENSG00000283104  \n",
       "0              3.0             71.0  \n",
       "1              3.0             70.0  \n",
       "2              9.0            116.0  \n",
       "3             10.0             45.0  \n",
       "4              4.0             95.0  \n",
       "5             13.0             83.0  \n",
       "6              7.0             84.0  \n",
       "7              7.0             79.0  \n",
       "\n",
       "[8 rows x 19088 columns]"
      ]
     },
     "execution_count": 7,
     "metadata": {},
     "output_type": "execute_result"
    }
   ],
   "source": [
    "clean_data"
   ]
  },
  {
   "cell_type": "code",
   "execution_count": 8,
   "metadata": {
    "ExecuteTime": {
     "end_time": "2020-07-15T08:43:34.984320Z",
     "start_time": "2020-07-15T08:43:34.974308Z"
    }
   },
   "outputs": [
    {
     "ename": "ImportError",
     "evalue": "cannot import name 'PCA' from 'sklearn.decomposition' (unknown location)",
     "output_type": "error",
     "traceback": [
      "\u001b[1;31m---------------------------------------------------------------------------\u001b[0m",
      "\u001b[1;31mImportError\u001b[0m                               Traceback (most recent call last)",
      "\u001b[1;32m<ipython-input-8-2c2a3b5d8411>\u001b[0m in \u001b[0;36m<module>\u001b[1;34m\u001b[0m\n\u001b[1;32m----> 1\u001b[1;33m \u001b[1;32mfrom\u001b[0m \u001b[0msklearn\u001b[0m\u001b[1;33m.\u001b[0m\u001b[0mdecomposition\u001b[0m \u001b[1;32mimport\u001b[0m \u001b[0mPCA\u001b[0m\u001b[1;33m\u001b[0m\u001b[1;33m\u001b[0m\u001b[0m\n\u001b[0m",
      "\u001b[1;31mImportError\u001b[0m: cannot import name 'PCA' from 'sklearn.decomposition' (unknown location)"
     ]
    }
   ],
   "source": [
    "from sklearn.decomposition import PCA"
   ]
  },
  {
   "cell_type": "code",
   "execution_count": 9,
   "metadata": {
    "ExecuteTime": {
     "end_time": "2020-07-15T08:43:35.173672Z",
     "start_time": "2020-07-15T08:43:35.165671Z"
    }
   },
   "outputs": [
    {
     "ename": "NameError",
     "evalue": "name 'PCA' is not defined",
     "output_type": "error",
     "traceback": [
      "\u001b[1;31m---------------------------------------------------------------------------\u001b[0m",
      "\u001b[1;31mNameError\u001b[0m                                 Traceback (most recent call last)",
      "\u001b[1;32m<ipython-input-9-b837c45125c0>\u001b[0m in \u001b[0;36m<module>\u001b[1;34m\u001b[0m\n\u001b[1;32m----> 1\u001b[1;33m \u001b[0mpca\u001b[0m \u001b[1;33m=\u001b[0m \u001b[0mPCA\u001b[0m\u001b[1;33m(\u001b[0m\u001b[0mn_components\u001b[0m\u001b[1;33m=\u001b[0m\u001b[1;36m2\u001b[0m\u001b[1;33m)\u001b[0m\u001b[1;33m\u001b[0m\u001b[1;33m\u001b[0m\u001b[0m\n\u001b[0m",
      "\u001b[1;31mNameError\u001b[0m: name 'PCA' is not defined"
     ]
    }
   ],
   "source": [
    "pca = PCA(n_components=2)"
   ]
  },
  {
   "cell_type": "code",
   "execution_count": 10,
   "metadata": {
    "ExecuteTime": {
     "end_time": "2020-07-15T08:43:35.365038Z",
     "start_time": "2020-07-15T08:43:35.349034Z"
    }
   },
   "outputs": [],
   "source": [
    "clean_data_numeric = list(clean_data.columns[clean_data.dtypes ==  \"float\"])"
   ]
  },
  {
   "cell_type": "code",
   "execution_count": 11,
   "metadata": {
    "ExecuteTime": {
     "end_time": "2020-07-15T08:43:35.534087Z",
     "start_time": "2020-07-15T08:43:35.526085Z"
    }
   },
   "outputs": [
    {
     "ename": "NameError",
     "evalue": "name 'pca' is not defined",
     "output_type": "error",
     "traceback": [
      "\u001b[1;31m---------------------------------------------------------------------------\u001b[0m",
      "\u001b[1;31mNameError\u001b[0m                                 Traceback (most recent call last)",
      "\u001b[1;32m<ipython-input-11-874c93c6315b>\u001b[0m in \u001b[0;36m<module>\u001b[1;34m\u001b[0m\n\u001b[1;32m----> 1\u001b[1;33m \u001b[0mpca\u001b[0m\u001b[1;33m.\u001b[0m\u001b[0mfit\u001b[0m\u001b[1;33m(\u001b[0m\u001b[0mclean_data\u001b[0m\u001b[1;33m[\u001b[0m\u001b[0mclean_data_numeric\u001b[0m\u001b[1;33m]\u001b[0m\u001b[1;33m)\u001b[0m\u001b[1;33m\u001b[0m\u001b[1;33m\u001b[0m\u001b[0m\n\u001b[0m",
      "\u001b[1;31mNameError\u001b[0m: name 'pca' is not defined"
     ]
    }
   ],
   "source": [
    "pca.fit(clean_data[clean_data_numeric])"
   ]
  },
  {
   "cell_type": "code",
   "execution_count": null,
   "metadata": {
    "ExecuteTime": {
     "end_time": "2020-07-15T08:41:20.756931Z",
     "start_time": "2020-07-15T08:40:51.063Z"
    }
   },
   "outputs": [],
   "source": [
    "data_pca = pca.transform(clean_data[clean_data_numeric])"
   ]
  },
  {
   "cell_type": "code",
   "execution_count": null,
   "metadata": {
    "ExecuteTime": {
     "end_time": "2020-07-15T08:41:20.757931Z",
     "start_time": "2020-07-15T08:40:51.065Z"
    }
   },
   "outputs": [],
   "source": [
    "data_pca = pd.concat([df_meta,pd.DataFrame(data_pca, columns = [\"pca_1\",\"pca_2\"])],axis = 1, )"
   ]
  },
  {
   "cell_type": "code",
   "execution_count": null,
   "metadata": {
    "ExecuteTime": {
     "end_time": "2020-07-15T08:41:20.759932Z",
     "start_time": "2020-07-15T08:40:51.066Z"
    }
   },
   "outputs": [],
   "source": [
    "sns.scatterplot(data_pca[\"pca_1\"], data_pca[\"pca_2\"], hue=data_pca.dex);"
   ]
  },
  {
   "cell_type": "code",
   "execution_count": null,
   "metadata": {
    "ExecuteTime": {
     "end_time": "2020-07-15T08:41:20.760931Z",
     "start_time": "2020-07-15T08:40:51.069Z"
    }
   },
   "outputs": [],
   "source": [
    "import rpy2\n",
    "\n",
    "print(rpy2.__version__)\n",
    "\n",
    "from rpy2.robjects.packages import importr\n",
    "\n",
    "base = importr('base')\n",
    "\n",
    "utils = importr('utils')\n",
    "\n",
    "import rpy2.robjects.packages as rpackages\n",
    "\n",
    "utils.chooseCRANmirror(ind=1) # select the first mirror in the list\n",
    "\n",
    "packnames = ('ggplot2', 'hexbin','BiocManager','read_csv')\n",
    "\n",
    "from rpy2.robjects.vectors import StrVector\n",
    "\n",
    "names_to_install = [x for x in packnames if not rpackages.isinstalled(x)]\n",
    "\n",
    "if len(names_to_install) > 0:\n",
    "    utils.install_packages(StrVector(names_to_install))"
   ]
  },
  {
   "cell_type": "code",
   "execution_count": null,
   "metadata": {
    "ExecuteTime": {
     "end_time": "2020-07-15T08:41:20.761932Z",
     "start_time": "2020-07-15T08:40:51.070Z"
    }
   },
   "outputs": [],
   "source": [
    "from rpy2 import robjects"
   ]
  },
  {
   "cell_type": "code",
   "execution_count": null,
   "metadata": {
    "ExecuteTime": {
     "end_time": "2020-07-15T08:41:20.762932Z",
     "start_time": "2020-07-15T08:40:51.072Z"
    }
   },
   "outputs": [],
   "source": [
    "robjects.r('''\n",
    "        # create a function `f`\n",
    "        f <- function(r, verbose=FALSE) {\n",
    "            if (verbose) {\n",
    "                cat(\"I am calling f().\\n\")\n",
    "            }\n",
    "            2 * pi * r\n",
    "        }\n",
    "        # call the function `f` with argument value 3\n",
    "        f(3)\n",
    "        ''')"
   ]
  },
  {
   "cell_type": "code",
   "execution_count": null,
   "metadata": {
    "ExecuteTime": {
     "end_time": "2020-07-15T08:41:20.763932Z",
     "start_time": "2020-07-15T08:40:51.074Z"
    }
   },
   "outputs": [],
   "source": [
    "r_f = robjects.r['f']\n",
    "print(r_f)\n",
    "\n",
    "r_f(4)[0] + 5"
   ]
  },
  {
   "cell_type": "code",
   "execution_count": null,
   "metadata": {
    "ExecuteTime": {
     "end_time": "2020-07-15T08:41:20.764932Z",
     "start_time": "2020-07-15T08:40:51.075Z"
    }
   },
   "outputs": [],
   "source": [
    "def install_custom(custom, manager):\n",
    "        if not manager:\n",
    "            biocinstaller = importr(\"BiocInstaller\")\n",
    "            biocinstaller.biocLite(robjects.vectors.StrVector(custom),suppressUpdates=True)\n",
    "        else:\n",
    "            biocinstaller = importr(\"BiocManager\")\n",
    "            for c in custom:\n",
    "                if '=' in c:\n",
    "                    pkg,version= tuple(c.split('='))\n",
    "                    biocinstaller.install(pkg,ask=False,version=version)\n",
    "                else:\n",
    "                    biocinstaller.install(c,ask=False) "
   ]
  },
  {
   "cell_type": "code",
   "execution_count": null,
   "metadata": {
    "ExecuteTime": {
     "end_time": "2020-07-15T08:41:20.765932Z",
     "start_time": "2020-07-15T08:40:51.077Z"
    }
   },
   "outputs": [],
   "source": [
    "install_custom(\"edgeR\",True)"
   ]
  },
  {
   "cell_type": "code",
   "execution_count": null,
   "metadata": {
    "ExecuteTime": {
     "end_time": "2020-07-15T08:41:20.766932Z",
     "start_time": "2020-07-15T08:40:51.078Z"
    }
   },
   "outputs": [],
   "source": [
    "edger = importr(\"edgeR\")"
   ]
  },
  {
   "cell_type": "code",
   "execution_count": null,
   "metadata": {
    "ExecuteTime": {
     "end_time": "2020-07-15T08:41:20.767933Z",
     "start_time": "2020-07-15T08:40:51.079Z"
    }
   },
   "outputs": [],
   "source": [
    "df_orig.rename(columns={'ensgene':'symbol'}, inplace=True)"
   ]
  },
  {
   "cell_type": "code",
   "execution_count": null,
   "metadata": {
    "ExecuteTime": {
     "end_time": "2020-07-15T08:41:20.768933Z",
     "start_time": "2020-07-15T08:40:51.081Z"
    }
   },
   "outputs": [],
   "source": [
    "from rpy2.robjects.vectors import FactorVector"
   ]
  },
  {
   "cell_type": "code",
   "execution_count": null,
   "metadata": {
    "ExecuteTime": {
     "end_time": "2020-07-15T08:41:20.769934Z",
     "start_time": "2020-07-15T08:40:51.082Z"
    }
   },
   "outputs": [],
   "source": [
    "group = FactorVector([\"1\",\"2\",\"1\",\"2\",\"1\",\"2\",\"1\",\"2\"])"
   ]
  },
  {
   "cell_type": "code",
   "execution_count": null,
   "metadata": {
    "ExecuteTime": {
     "end_time": "2020-07-15T08:41:20.770934Z",
     "start_time": "2020-07-15T08:40:51.084Z"
    }
   },
   "outputs": [],
   "source": [
    "reads = utils.read_delim(\"airway_scaledcounts_R.csv\", sep=\",\")"
   ]
  },
  {
   "cell_type": "code",
   "execution_count": null,
   "metadata": {
    "ExecuteTime": {
     "end_time": "2020-07-15T08:41:20.771934Z",
     "start_time": "2020-07-15T08:40:51.085Z"
    }
   },
   "outputs": [],
   "source": [
    "reads = robjects.r('reads <- read.delim(\"airway_scaledcounts_R.csv\",sep = \",\",row.names=\"symbol\")')"
   ]
  },
  {
   "cell_type": "code",
   "execution_count": null,
   "metadata": {
    "ExecuteTime": {
     "end_time": "2020-07-15T08:41:20.772935Z",
     "start_time": "2020-07-15T08:40:51.087Z"
    }
   },
   "outputs": [],
   "source": [
    "dgelist= edger.DGEList(counts=reads, group = group)"
   ]
  },
  {
   "cell_type": "code",
   "execution_count": null,
   "metadata": {
    "ExecuteTime": {
     "end_time": "2020-07-15T08:41:20.773935Z",
     "start_time": "2020-07-15T08:40:51.088Z"
    }
   },
   "outputs": [],
   "source": [
    "keep = edger.filterByExpr(dgelist)"
   ]
  },
  {
   "cell_type": "code",
   "execution_count": null,
   "metadata": {
    "ExecuteTime": {
     "end_time": "2020-07-15T08:41:20.774935Z",
     "start_time": "2020-07-15T08:40:51.090Z"
    }
   },
   "outputs": [],
   "source": [
    "edger.calcNormFactors(dgelist)"
   ]
  },
  {
   "cell_type": "code",
   "execution_count": null,
   "metadata": {
    "ExecuteTime": {
     "end_time": "2020-07-15T08:41:20.774935Z",
     "start_time": "2020-07-15T08:40:51.092Z"
    }
   },
   "outputs": [],
   "source": [
    "robjects.r('''\n",
    "x <- read.delim(\"airway_scaledcounts_R.csv\",sep = \",\",row.names=\"symbol\")\n",
    "group <- factor(c(1,2,1,2,1,2,1,2))\n",
    "y <- DGEList(counts=x,group=group)\n",
    "keep <- filterByExpr(y)\n",
    "y <- y[keep,,keep.lib.sizes=FALSE]\n",
    "y <- calcNormFactors(y)\n",
    "design <- model.matrix(~group)\n",
    "y <- estimateDisp(y,design)\n",
    "''');"
   ]
  },
  {
   "cell_type": "code",
   "execution_count": null,
   "metadata": {
    "ExecuteTime": {
     "end_time": "2020-07-15T08:41:20.775936Z",
     "start_time": "2020-07-15T08:40:51.093Z"
    }
   },
   "outputs": [],
   "source": [
    "robjects.r('''\n",
    "fit <- glmQLFit(y,design)\n",
    "qlf <- glmQLFTest(fit,coef=2)\n",
    "top <- topTags(qlf)\n",
    "gene_names <- row.names(top)\n",
    "''');"
   ]
  },
  {
   "cell_type": "code",
   "execution_count": null,
   "metadata": {
    "ExecuteTime": {
     "end_time": "2020-07-15T08:41:20.777936Z",
     "start_time": "2020-07-15T08:40:51.095Z"
    }
   },
   "outputs": [],
   "source": [
    "from rpy2.robjects import pandas2ri\n",
    "import mygene\n",
    "\n",
    "top = robjects.r['top']\n",
    "top_df = pd.DataFrame(pandas2ri.ri2py_vector(top[0]))\n",
    "\n",
    "g_names = robjects.r['gene_names']\n",
    "g_names = list(g_names)\n",
    "\n",
    "mg = mygene.MyGeneInfo()\n",
    "gene_dict = mg.querymany(g_names,scopes='ensembl.gene')\n",
    "trans_g_names = [gene_dict[i][\"symbol\"] for i in range(len(g_names))]\n",
    "top_df.index = trans_g_names\n",
    "\n",
    "top_df"
   ]
  }
 ],
 "metadata": {
  "kernelspec": {
   "display_name": "Python 3",
   "language": "python",
   "name": "python3"
  },
  "language_info": {
   "codemirror_mode": {
    "name": "ipython",
    "version": 3
   },
   "file_extension": ".py",
   "mimetype": "text/x-python",
   "name": "python",
   "nbconvert_exporter": "python",
   "pygments_lexer": "ipython3",
   "version": "3.7.7"
  },
  "toc": {
   "base_numbering": 1,
   "nav_menu": {},
   "number_sections": true,
   "sideBar": true,
   "skip_h1_title": false,
   "title_cell": "Table of Contents",
   "title_sidebar": "Contents",
   "toc_cell": false,
   "toc_position": {},
   "toc_section_display": true,
   "toc_window_display": false
  }
 },
 "nbformat": 4,
 "nbformat_minor": 4
}
