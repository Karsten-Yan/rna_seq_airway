{
 "cells": [
  {
   "cell_type": "code",
   "execution_count": 64,
   "metadata": {
    "ExecuteTime": {
     "end_time": "2020-07-14T14:18:03.112574Z",
     "start_time": "2020-07-14T14:18:03.109573Z"
    }
   },
   "outputs": [],
   "source": [
    "import pandas as pd\n",
    "import numpy as np\n",
    "import matplotlib.pyplot as plt\n",
    "import seaborn as sns"
   ]
  },
  {
   "cell_type": "code",
   "execution_count": 65,
   "metadata": {
    "ExecuteTime": {
     "end_time": "2020-07-14T14:18:03.471933Z",
     "start_time": "2020-07-14T14:18:03.420922Z"
    }
   },
   "outputs": [],
   "source": [
    "df_orig = pd.read_csv(\"airway_scaledcounts.csv\")\n",
    "df_meta = pd.read_csv(\"airway_metadata.csv\")"
   ]
  },
  {
   "cell_type": "code",
   "execution_count": 66,
   "metadata": {
    "ExecuteTime": {
     "end_time": "2020-07-14T14:18:03.967104Z",
     "start_time": "2020-07-14T14:18:03.948100Z"
    }
   },
   "outputs": [],
   "source": [
    "data = pd.concat([df_meta, df_orig.set_index(\"ensgene\").T.reset_index()], axis = 1)"
   ]
  },
  {
   "cell_type": "code",
   "execution_count": 68,
   "metadata": {
    "ExecuteTime": {
     "end_time": "2020-07-14T14:18:39.388193Z",
     "start_time": "2020-07-14T14:18:12.421148Z"
    }
   },
   "outputs": [],
   "source": [
    "clean_data = pd.DataFrame()\n",
    "for c in data.columns:\n",
    "    if data[c].dtype == object:\n",
    "        clean_data[c] = data[c]\n",
    "    if data[c].dtype == float and np.sum(data[c]) > 10:\n",
    "        clean_data[c] = data[c]"
   ]
  },
  {
   "cell_type": "code",
   "execution_count": 6,
   "metadata": {
    "ExecuteTime": {
     "end_time": "2020-07-14T13:46:42.628265Z",
     "start_time": "2020-07-14T13:46:42.594256Z"
    }
   },
   "outputs": [
    {
     "data": {
      "text/html": [
       "<div>\n",
       "<style scoped>\n",
       "    .dataframe tbody tr th:only-of-type {\n",
       "        vertical-align: middle;\n",
       "    }\n",
       "\n",
       "    .dataframe tbody tr th {\n",
       "        vertical-align: top;\n",
       "    }\n",
       "\n",
       "    .dataframe thead th {\n",
       "        text-align: right;\n",
       "    }\n",
       "</style>\n",
       "<table border=\"1\" class=\"dataframe\">\n",
       "  <thead>\n",
       "    <tr style=\"text-align: right;\">\n",
       "      <th></th>\n",
       "      <th>id</th>\n",
       "      <th>dex</th>\n",
       "      <th>celltype</th>\n",
       "      <th>geo_id</th>\n",
       "      <th>index</th>\n",
       "      <th>ENSG00000000003</th>\n",
       "      <th>ENSG00000000419</th>\n",
       "      <th>ENSG00000000457</th>\n",
       "      <th>ENSG00000000460</th>\n",
       "      <th>ENSG00000000971</th>\n",
       "      <th>...</th>\n",
       "      <th>ENSG00000283070</th>\n",
       "      <th>ENSG00000283085</th>\n",
       "      <th>ENSG00000283086</th>\n",
       "      <th>ENSG00000283087</th>\n",
       "      <th>ENSG00000283088</th>\n",
       "      <th>ENSG00000283091</th>\n",
       "      <th>ENSG00000283094</th>\n",
       "      <th>ENSG00000283100</th>\n",
       "      <th>ENSG00000283101</th>\n",
       "      <th>ENSG00000283104</th>\n",
       "    </tr>\n",
       "  </thead>\n",
       "  <tbody>\n",
       "    <tr>\n",
       "      <th>0</th>\n",
       "      <td>SRR1039508</td>\n",
       "      <td>control</td>\n",
       "      <td>N61311</td>\n",
       "      <td>GSM1275862</td>\n",
       "      <td>SRR1039508</td>\n",
       "      <td>723.0</td>\n",
       "      <td>467.0</td>\n",
       "      <td>347.0</td>\n",
       "      <td>96.0</td>\n",
       "      <td>3413.0</td>\n",
       "      <td>...</td>\n",
       "      <td>4.0</td>\n",
       "      <td>1260.0</td>\n",
       "      <td>4.0</td>\n",
       "      <td>190.0</td>\n",
       "      <td>1.0</td>\n",
       "      <td>51.0</td>\n",
       "      <td>2187.0</td>\n",
       "      <td>647.0</td>\n",
       "      <td>3.0</td>\n",
       "      <td>71.0</td>\n",
       "    </tr>\n",
       "    <tr>\n",
       "      <th>1</th>\n",
       "      <td>SRR1039509</td>\n",
       "      <td>treated</td>\n",
       "      <td>N61311</td>\n",
       "      <td>GSM1275863</td>\n",
       "      <td>SRR1039509</td>\n",
       "      <td>486.0</td>\n",
       "      <td>523.0</td>\n",
       "      <td>258.0</td>\n",
       "      <td>81.0</td>\n",
       "      <td>3916.0</td>\n",
       "      <td>...</td>\n",
       "      <td>0.0</td>\n",
       "      <td>774.0</td>\n",
       "      <td>5.0</td>\n",
       "      <td>182.0</td>\n",
       "      <td>13.0</td>\n",
       "      <td>42.0</td>\n",
       "      <td>1536.0</td>\n",
       "      <td>570.0</td>\n",
       "      <td>3.0</td>\n",
       "      <td>70.0</td>\n",
       "    </tr>\n",
       "    <tr>\n",
       "      <th>2</th>\n",
       "      <td>SRR1039512</td>\n",
       "      <td>control</td>\n",
       "      <td>N052611</td>\n",
       "      <td>GSM1275866</td>\n",
       "      <td>SRR1039512</td>\n",
       "      <td>904.0</td>\n",
       "      <td>616.0</td>\n",
       "      <td>364.0</td>\n",
       "      <td>73.0</td>\n",
       "      <td>6000.0</td>\n",
       "      <td>...</td>\n",
       "      <td>7.0</td>\n",
       "      <td>1034.0</td>\n",
       "      <td>10.0</td>\n",
       "      <td>332.0</td>\n",
       "      <td>72.0</td>\n",
       "      <td>79.0</td>\n",
       "      <td>2491.0</td>\n",
       "      <td>645.0</td>\n",
       "      <td>9.0</td>\n",
       "      <td>116.0</td>\n",
       "    </tr>\n",
       "    <tr>\n",
       "      <th>3</th>\n",
       "      <td>SRR1039513</td>\n",
       "      <td>treated</td>\n",
       "      <td>N052611</td>\n",
       "      <td>GSM1275867</td>\n",
       "      <td>SRR1039513</td>\n",
       "      <td>445.0</td>\n",
       "      <td>371.0</td>\n",
       "      <td>237.0</td>\n",
       "      <td>66.0</td>\n",
       "      <td>4308.0</td>\n",
       "      <td>...</td>\n",
       "      <td>6.0</td>\n",
       "      <td>437.0</td>\n",
       "      <td>1.0</td>\n",
       "      <td>187.0</td>\n",
       "      <td>13.0</td>\n",
       "      <td>34.0</td>\n",
       "      <td>1253.0</td>\n",
       "      <td>369.0</td>\n",
       "      <td>10.0</td>\n",
       "      <td>45.0</td>\n",
       "    </tr>\n",
       "    <tr>\n",
       "      <th>4</th>\n",
       "      <td>SRR1039516</td>\n",
       "      <td>control</td>\n",
       "      <td>N080611</td>\n",
       "      <td>GSM1275870</td>\n",
       "      <td>SRR1039516</td>\n",
       "      <td>1170.0</td>\n",
       "      <td>582.0</td>\n",
       "      <td>318.0</td>\n",
       "      <td>118.0</td>\n",
       "      <td>6424.0</td>\n",
       "      <td>...</td>\n",
       "      <td>5.0</td>\n",
       "      <td>1057.0</td>\n",
       "      <td>6.0</td>\n",
       "      <td>332.0</td>\n",
       "      <td>47.0</td>\n",
       "      <td>87.0</td>\n",
       "      <td>2316.0</td>\n",
       "      <td>688.0</td>\n",
       "      <td>4.0</td>\n",
       "      <td>95.0</td>\n",
       "    </tr>\n",
       "    <tr>\n",
       "      <th>5</th>\n",
       "      <td>SRR1039517</td>\n",
       "      <td>treated</td>\n",
       "      <td>N080611</td>\n",
       "      <td>GSM1275871</td>\n",
       "      <td>SRR1039517</td>\n",
       "      <td>1097.0</td>\n",
       "      <td>781.0</td>\n",
       "      <td>447.0</td>\n",
       "      <td>94.0</td>\n",
       "      <td>10723.0</td>\n",
       "      <td>...</td>\n",
       "      <td>5.0</td>\n",
       "      <td>1129.0</td>\n",
       "      <td>10.0</td>\n",
       "      <td>390.0</td>\n",
       "      <td>62.0</td>\n",
       "      <td>96.0</td>\n",
       "      <td>2026.0</td>\n",
       "      <td>670.0</td>\n",
       "      <td>13.0</td>\n",
       "      <td>83.0</td>\n",
       "    </tr>\n",
       "    <tr>\n",
       "      <th>6</th>\n",
       "      <td>SRR1039520</td>\n",
       "      <td>control</td>\n",
       "      <td>N061011</td>\n",
       "      <td>GSM1275874</td>\n",
       "      <td>SRR1039520</td>\n",
       "      <td>806.0</td>\n",
       "      <td>417.0</td>\n",
       "      <td>330.0</td>\n",
       "      <td>102.0</td>\n",
       "      <td>5039.0</td>\n",
       "      <td>...</td>\n",
       "      <td>1.0</td>\n",
       "      <td>1009.0</td>\n",
       "      <td>3.0</td>\n",
       "      <td>156.0</td>\n",
       "      <td>36.0</td>\n",
       "      <td>55.0</td>\n",
       "      <td>2000.0</td>\n",
       "      <td>550.0</td>\n",
       "      <td>7.0</td>\n",
       "      <td>84.0</td>\n",
       "    </tr>\n",
       "    <tr>\n",
       "      <th>7</th>\n",
       "      <td>SRR1039521</td>\n",
       "      <td>treated</td>\n",
       "      <td>N061011</td>\n",
       "      <td>GSM1275875</td>\n",
       "      <td>SRR1039521</td>\n",
       "      <td>604.0</td>\n",
       "      <td>509.0</td>\n",
       "      <td>324.0</td>\n",
       "      <td>74.0</td>\n",
       "      <td>7803.0</td>\n",
       "      <td>...</td>\n",
       "      <td>3.0</td>\n",
       "      <td>722.0</td>\n",
       "      <td>2.0</td>\n",
       "      <td>239.0</td>\n",
       "      <td>33.0</td>\n",
       "      <td>51.0</td>\n",
       "      <td>1529.0</td>\n",
       "      <td>572.0</td>\n",
       "      <td>7.0</td>\n",
       "      <td>79.0</td>\n",
       "    </tr>\n",
       "  </tbody>\n",
       "</table>\n",
       "<p>8 rows × 19088 columns</p>\n",
       "</div>"
      ],
      "text/plain": [
       "           id      dex celltype      geo_id       index  ENSG00000000003  \\\n",
       "0  SRR1039508  control   N61311  GSM1275862  SRR1039508            723.0   \n",
       "1  SRR1039509  treated   N61311  GSM1275863  SRR1039509            486.0   \n",
       "2  SRR1039512  control  N052611  GSM1275866  SRR1039512            904.0   \n",
       "3  SRR1039513  treated  N052611  GSM1275867  SRR1039513            445.0   \n",
       "4  SRR1039516  control  N080611  GSM1275870  SRR1039516           1170.0   \n",
       "5  SRR1039517  treated  N080611  GSM1275871  SRR1039517           1097.0   \n",
       "6  SRR1039520  control  N061011  GSM1275874  SRR1039520            806.0   \n",
       "7  SRR1039521  treated  N061011  GSM1275875  SRR1039521            604.0   \n",
       "\n",
       "   ENSG00000000419  ENSG00000000457  ENSG00000000460  ENSG00000000971  ...  \\\n",
       "0            467.0            347.0             96.0           3413.0  ...   \n",
       "1            523.0            258.0             81.0           3916.0  ...   \n",
       "2            616.0            364.0             73.0           6000.0  ...   \n",
       "3            371.0            237.0             66.0           4308.0  ...   \n",
       "4            582.0            318.0            118.0           6424.0  ...   \n",
       "5            781.0            447.0             94.0          10723.0  ...   \n",
       "6            417.0            330.0            102.0           5039.0  ...   \n",
       "7            509.0            324.0             74.0           7803.0  ...   \n",
       "\n",
       "   ENSG00000283070  ENSG00000283085  ENSG00000283086  ENSG00000283087  \\\n",
       "0              4.0           1260.0              4.0            190.0   \n",
       "1              0.0            774.0              5.0            182.0   \n",
       "2              7.0           1034.0             10.0            332.0   \n",
       "3              6.0            437.0              1.0            187.0   \n",
       "4              5.0           1057.0              6.0            332.0   \n",
       "5              5.0           1129.0             10.0            390.0   \n",
       "6              1.0           1009.0              3.0            156.0   \n",
       "7              3.0            722.0              2.0            239.0   \n",
       "\n",
       "   ENSG00000283088  ENSG00000283091  ENSG00000283094  ENSG00000283100  \\\n",
       "0              1.0             51.0           2187.0            647.0   \n",
       "1             13.0             42.0           1536.0            570.0   \n",
       "2             72.0             79.0           2491.0            645.0   \n",
       "3             13.0             34.0           1253.0            369.0   \n",
       "4             47.0             87.0           2316.0            688.0   \n",
       "5             62.0             96.0           2026.0            670.0   \n",
       "6             36.0             55.0           2000.0            550.0   \n",
       "7             33.0             51.0           1529.0            572.0   \n",
       "\n",
       "   ENSG00000283101  ENSG00000283104  \n",
       "0              3.0             71.0  \n",
       "1              3.0             70.0  \n",
       "2              9.0            116.0  \n",
       "3             10.0             45.0  \n",
       "4              4.0             95.0  \n",
       "5             13.0             83.0  \n",
       "6              7.0             84.0  \n",
       "7              7.0             79.0  \n",
       "\n",
       "[8 rows x 19088 columns]"
      ]
     },
     "execution_count": 6,
     "metadata": {},
     "output_type": "execute_result"
    }
   ],
   "source": [
    "clean_data"
   ]
  },
  {
   "cell_type": "code",
   "execution_count": 7,
   "metadata": {
    "ExecuteTime": {
     "end_time": "2020-07-14T13:46:42.724285Z",
     "start_time": "2020-07-14T13:46:42.629265Z"
    }
   },
   "outputs": [],
   "source": [
    "from sklearn.decomposition import PCA"
   ]
  },
  {
   "cell_type": "code",
   "execution_count": 8,
   "metadata": {
    "ExecuteTime": {
     "end_time": "2020-07-14T13:46:42.728287Z",
     "start_time": "2020-07-14T13:46:42.726285Z"
    }
   },
   "outputs": [],
   "source": [
    "pca = PCA(n_components=2)"
   ]
  },
  {
   "cell_type": "code",
   "execution_count": 9,
   "metadata": {
    "ExecuteTime": {
     "end_time": "2020-07-14T13:46:42.746290Z",
     "start_time": "2020-07-14T13:46:42.729286Z"
    }
   },
   "outputs": [],
   "source": [
    "clean_data_numeric = list(clean_data.columns[clean_data.dtypes ==  \"float\"])"
   ]
  },
  {
   "cell_type": "code",
   "execution_count": 10,
   "metadata": {
    "ExecuteTime": {
     "end_time": "2020-07-14T13:46:42.816305Z",
     "start_time": "2020-07-14T13:46:42.747291Z"
    }
   },
   "outputs": [
    {
     "data": {
      "text/plain": [
       "PCA(copy=True, iterated_power='auto', n_components=2, random_state=None,\n",
       "    svd_solver='auto', tol=0.0, whiten=False)"
      ]
     },
     "execution_count": 10,
     "metadata": {},
     "output_type": "execute_result"
    }
   ],
   "source": [
    "pca.fit(clean_data[clean_data_numeric])"
   ]
  },
  {
   "cell_type": "code",
   "execution_count": 11,
   "metadata": {
    "ExecuteTime": {
     "end_time": "2020-07-14T13:46:42.856314Z",
     "start_time": "2020-07-14T13:46:42.817305Z"
    }
   },
   "outputs": [],
   "source": [
    "data_pca = pca.transform(clean_data[clean_data_numeric])"
   ]
  },
  {
   "cell_type": "code",
   "execution_count": 12,
   "metadata": {
    "ExecuteTime": {
     "end_time": "2020-07-14T13:46:42.862316Z",
     "start_time": "2020-07-14T13:46:42.857314Z"
    }
   },
   "outputs": [],
   "source": [
    "data_pca = pd.concat([df_meta,pd.DataFrame(data_pca, columns = [\"pca_1\",\"pca_2\"])],axis = 1, )"
   ]
  },
  {
   "cell_type": "code",
   "execution_count": 13,
   "metadata": {
    "ExecuteTime": {
     "end_time": "2020-07-14T13:46:43.044356Z",
     "start_time": "2020-07-14T13:46:42.863316Z"
    }
   },
   "outputs": [
    {
     "data": {
      "image/png": "[encoded data removed]",
      "text/plain": [
       "<Figure size 432x288 with 1 Axes>"
      ]
     },
     "metadata": {
      "needs_background": "light"
     },
     "output_type": "display_data"
    }
   ],
   "source": [
    "sns.scatterplot(data_pca[\"pca_1\"], data_pca[\"pca_2\"], hue=data_pca.dex);"
   ]
  },
  {
   "cell_type": "code",
   "execution_count": 86,
   "metadata": {
    "ExecuteTime": {
     "end_time": "2020-07-14T14:27:35.505434Z",
     "start_time": "2020-07-14T14:27:33.316250Z"
    }
   },
   "outputs": [
    {
     "name": "stdout",
     "output_type": "stream",
     "text": [
      "2.9.4\n"
     ]
    }
   ],
   "source": [
    "import rpy2\n",
    "\n",
    "print(rpy2.__version__)\n",
    "\n",
    "from rpy2.robjects.packages import importr\n",
    "\n",
    "base = importr('base')\n",
    "\n",
    "utils = importr('utils')\n",
    "\n",
    "import rpy2.robjects.packages as rpackages\n",
    "\n",
    "utils.chooseCRANmirror(ind=1) # select the first mirror in the list\n",
    "\n",
    "packnames = ('ggplot2', 'hexbin','BiocManager','read_csv')\n",
    "\n",
    "from rpy2.robjects.vectors import StrVector\n",
    "\n",
    "names_to_install = [x for x in packnames if not rpackages.isinstalled(x)]\n",
    "\n",
    "if len(names_to_install) > 0:\n",
    "    utils.install_packages(StrVector(names_to_install))"
   ]
  },
  {
   "cell_type": "code",
   "execution_count": 47,
   "metadata": {
    "ExecuteTime": {
     "end_time": "2020-07-14T14:04:01.989431Z",
     "start_time": "2020-07-14T14:04:01.985428Z"
    }
   },
   "outputs": [],
   "source": [
    "from rpy2 import robjects"
   ]
  },
  {
   "cell_type": "code",
   "execution_count": 48,
   "metadata": {
    "ExecuteTime": {
     "end_time": "2020-07-14T14:04:01.997431Z",
     "start_time": "2020-07-14T14:04:01.991431Z"
    }
   },
   "outputs": [
    {
     "data": {
      "text/html": [
       "\n",
       "    <span>FloatVector with 1 elements.</span>\n",
       "    <table>\n",
       "      <tbody>\n",
       "      <tr>\n",
       "      \n",
       "      <td>\n",
       "        18.849556\n",
       "      </td>\n",
       "      \n",
       "      </tr>\n",
       "      </tbody>\n",
       "    </table>\n",
       "    "
      ],
      "text/plain": [
       "R object with classes: ('numeric',) mapped to:\n",
       "<FloatVector - Python:0x000001C8E1B8E088 / R:0x000001C8DB42E450>\n",
       "[18.849556]"
      ]
     },
     "execution_count": 48,
     "metadata": {},
     "output_type": "execute_result"
    }
   ],
   "source": [
    "robjects.r('''\n",
    "        # create a function `f`\n",
    "        f <- function(r, verbose=FALSE) {\n",
    "            if (verbose) {\n",
    "                cat(\"I am calling f().\\n\")\n",
    "            }\n",
    "            2 * pi * r\n",
    "        }\n",
    "        # call the function `f` with argument value 3\n",
    "        f(3)\n",
    "        ''')"
   ]
  },
  {
   "cell_type": "code",
   "execution_count": 49,
   "metadata": {
    "ExecuteTime": {
     "end_time": "2020-07-14T14:04:02.004433Z",
     "start_time": "2020-07-14T14:04:01.998432Z"
    }
   },
   "outputs": [
    {
     "name": "stdout",
     "output_type": "stream",
     "text": [
      "function(r, verbose=FALSE) {\n",
      "\r\n",
      "            if (verbose) {\n",
      "\r\n",
      "                cat(\"I am calling f().\n",
      "\r\n",
      "\")\n",
      "\r\n",
      "            }\n",
      "\r\n",
      "            2 * pi * r\n",
      "\r\n",
      "        }\n",
      "\n"
     ]
    }
   ],
   "source": [
    "r_f = robjects.r['f']\n",
    "print(r_f)\n",
    "\n",
    "r_f(4)[0] + 5"
   ]
  },
  {
   "cell_type": "code",
   "execution_count": 60,
   "metadata": {
    "ExecuteTime": {
     "end_time": "2020-07-14T14:10:04.083578Z",
     "start_time": "2020-07-14T14:10:04.077576Z"
    }
   },
   "outputs": [],
   "source": [
    "def install_custom(custom, manager):\n",
    "        if not manager:\n",
    "            biocinstaller = importr(\"BiocInstaller\")\n",
    "            biocinstaller.biocLite(robjects.vectors.StrVector(custom),suppressUpdates=True)\n",
    "        else:\n",
    "            biocinstaller = importr(\"BiocManager\")\n",
    "            for c in custom:\n",
    "                if '=' in c:\n",
    "                    pkg,version= tuple(c.split('='))\n",
    "                    biocinstaller.install(pkg,ask=False,version=version)\n",
    "                else:\n",
    "                    biocinstaller.install(c,ask=False) "
   ]
  },
  {
   "cell_type": "code",
   "execution_count": 61,
   "metadata": {
    "ExecuteTime": {
     "end_time": "2020-07-14T14:11:36.941377Z",
     "start_time": "2020-07-14T14:10:04.493515Z"
    }
   },
   "outputs": [],
   "source": [
    "install_custom(\"edgeR\",True)"
   ]
  },
  {
   "cell_type": "code",
   "execution_count": 87,
   "metadata": {
    "ExecuteTime": {
     "end_time": "2020-07-14T14:28:01.701089Z",
     "start_time": "2020-07-14T14:28:01.636084Z"
    }
   },
   "outputs": [
    {
     "ename": "RRuntimeError",
     "evalue": "Error in loadNamespace(name) : es gibt kein Paket namens 'read_csv'\n",
     "output_type": "error",
     "traceback": [
      "\u001b[1;31m---------------------------------------------------------------------------\u001b[0m",
      "\u001b[1;31mRRuntimeError\u001b[0m                             Traceback (most recent call last)",
      "\u001b[1;32m<ipython-input-87-9f83102588c2>\u001b[0m in \u001b[0;36m<module>\u001b[1;34m\u001b[0m\n\u001b[0;32m      1\u001b[0m \u001b[0medger\u001b[0m \u001b[1;33m=\u001b[0m \u001b[0mimportr\u001b[0m\u001b[1;33m(\u001b[0m\u001b[1;34m\"edgeR\"\u001b[0m\u001b[1;33m)\u001b[0m\u001b[1;33m\u001b[0m\u001b[1;33m\u001b[0m\u001b[0m\n\u001b[1;32m----> 2\u001b[1;33m \u001b[0mreader\u001b[0m \u001b[1;33m=\u001b[0m \u001b[0mimportr\u001b[0m\u001b[1;33m(\u001b[0m\u001b[1;34m\"read_csv\"\u001b[0m\u001b[1;33m)\u001b[0m\u001b[1;33m\u001b[0m\u001b[1;33m\u001b[0m\u001b[0m\n\u001b[0m",
      "\u001b[1;32m~\\anaconda3\\lib\\site-packages\\rpy2\\robjects\\packages.py\u001b[0m in \u001b[0;36mimportr\u001b[1;34m(name, lib_loc, robject_translations, signature_translation, suppress_messages, on_conflict, symbol_r2python, symbol_check_after, data)\u001b[0m\n\u001b[0;32m    451\u001b[0m     if _package_has_namespace(rname, \n\u001b[0;32m    452\u001b[0m                               _system_file(package = rname)):\n\u001b[1;32m--> 453\u001b[1;33m         \u001b[0menv\u001b[0m \u001b[1;33m=\u001b[0m \u001b[0m_get_namespace\u001b[0m\u001b[1;33m(\u001b[0m\u001b[0mrname\u001b[0m\u001b[1;33m)\u001b[0m\u001b[1;33m\u001b[0m\u001b[1;33m\u001b[0m\u001b[0m\n\u001b[0m\u001b[0;32m    454\u001b[0m         \u001b[0mversion\u001b[0m \u001b[1;33m=\u001b[0m \u001b[0m_get_namespace_version\u001b[0m\u001b[1;33m(\u001b[0m\u001b[0mrname\u001b[0m\u001b[1;33m)\u001b[0m\u001b[1;33m[\u001b[0m\u001b[1;36m0\u001b[0m\u001b[1;33m]\u001b[0m\u001b[1;33m\u001b[0m\u001b[1;33m\u001b[0m\u001b[0m\n\u001b[0;32m    455\u001b[0m         \u001b[0mexported_names\u001b[0m \u001b[1;33m=\u001b[0m \u001b[0mset\u001b[0m\u001b[1;33m(\u001b[0m\u001b[0m_get_namespace_exports\u001b[0m\u001b[1;33m(\u001b[0m\u001b[0mrname\u001b[0m\u001b[1;33m)\u001b[0m\u001b[1;33m)\u001b[0m\u001b[1;33m\u001b[0m\u001b[1;33m\u001b[0m\u001b[0m\n",
      "\u001b[1;31mRRuntimeError\u001b[0m: Error in loadNamespace(name) : es gibt kein Paket namens 'read_csv'\n"
     ]
    }
   ],
   "source": [
    "edger = importr(\"edgeR\")"
   ]
  },
  {
   "cell_type": "code",
   "execution_count": 74,
   "metadata": {
    "ExecuteTime": {
     "end_time": "2020-07-14T14:20:10.338764Z",
     "start_time": "2020-07-14T14:20:10.332762Z"
    }
   },
   "outputs": [],
   "source": [
    "df_orig.rename(columns={'ensgene':'symbol'}, inplace=True)"
   ]
  },
  {
   "cell_type": "code",
   "execution_count": 80,
   "metadata": {
    "ExecuteTime": {
     "end_time": "2020-07-14T14:22:49.032221Z",
     "start_time": "2020-07-14T14:22:49.029220Z"
    }
   },
   "outputs": [],
   "source": [
    "from rpy2.robjects.vectors import FactorVector"
   ]
  },
  {
   "cell_type": "code",
   "execution_count": 81,
   "metadata": {
    "ExecuteTime": {
     "end_time": "2020-07-14T14:22:55.737206Z",
     "start_time": "2020-07-14T14:22:55.732203Z"
    }
   },
   "outputs": [],
   "source": [
    "group = FactorVector([\"1\",\"2\",\"1\",\"2\",\"1\",\"2\",\"1\",\"2\"])"
   ]
  },
  {
   "cell_type": "code",
   "execution_count": 98,
   "metadata": {
    "ExecuteTime": {
     "end_time": "2020-07-14T14:33:33.893330Z",
     "start_time": "2020-07-14T14:33:33.668288Z"
    }
   },
   "outputs": [],
   "source": [
    "reads = utils.read_delim(\"airway_scaledcounts_R.csv\", sep=\",\")"
   ]
  },
  {
   "cell_type": "code",
   "execution_count": 103,
   "metadata": {
    "ExecuteTime": {
     "end_time": "2020-07-14T14:37:05.704147Z",
     "start_time": "2020-07-14T14:37:05.579646Z"
    }
   },
   "outputs": [],
   "source": [
    "reads = robjects.r('reads <- read.delim(\"airway_scaledcounts_R.csv\",sep = \",\",row.names=\"symbol\")')"
   ]
  },
  {
   "cell_type": "code",
   "execution_count": 106,
   "metadata": {
    "ExecuteTime": {
     "end_time": "2020-07-14T14:37:36.515266Z",
     "start_time": "2020-07-14T14:37:36.508265Z"
    }
   },
   "outputs": [],
   "source": [
    "dgelist= edger.DGEList(counts=reads, group = group)"
   ]
  },
  {
   "cell_type": "code",
   "execution_count": 112,
   "metadata": {
    "ExecuteTime": {
     "end_time": "2020-07-14T14:39:28.123464Z",
     "start_time": "2020-07-14T14:39:28.115462Z"
    }
   },
   "outputs": [],
   "source": [
    "keep = edger.filterByExpr(dgelist)"
   ]
  },
  {
   "cell_type": "code",
   "execution_count": 118,
   "metadata": {
    "ExecuteTime": {
     "end_time": "2020-07-14T14:41:48.918201Z",
     "start_time": "2020-07-14T14:41:48.756165Z"
    }
   },
   "outputs": [
    {
     "data": {
      "text/html": [
       "\n",
       "    <span>ListVector with 2 elements.</span>\n",
       "    <table>\n",
       "      <tbody>\n",
       "      \n",
       "      <tr>\n",
       "      <th>\n",
       "        counts\n",
       "      </th>\n",
       "      <td>\n",
       "        \n",
       "    <span>Matrix with 309552 elements.</span>\n",
       "    <table>\n",
       "      <tbody>\n",
       "      <tr>\n",
       "      \n",
       "      <td>\n",
       "             723\n",
       "      </td>\n",
       "      \n",
       "      <td>\n",
       "               0\n",
       "      </td>\n",
       "      \n",
       "      <td>\n",
       "             467\n",
       "      </td>\n",
       "      \n",
       "      <td>\n",
       "             347\n",
       "      </td>\n",
       "      \n",
       "      <td>\n",
       "        ...\n",
       "      </td>\n",
       "      \n",
       "      <td>\n",
       "               0\n",
       "      </td>\n",
       "      \n",
       "      <td>\n",
       "               0\n",
       "      </td>\n",
       "      \n",
       "      <td>\n",
       "               0\n",
       "      </td>\n",
       "      \n",
       "      <td>\n",
       "               0\n",
       "      </td>\n",
       "      \n",
       "      </tr>\n",
       "      </tbody>\n",
       "    </table>\n",
       "    \n",
       "      </td>\n",
       "      </tr>\n",
       "      \n",
       "      <tr>\n",
       "      <th>\n",
       "        samples\n",
       "      </th>\n",
       "      <td>\n",
       "        \n",
       "    <span>R/rpy2 DataFrame (8 x 3)</span>\n",
       "    <table>\n",
       "      <thead>\n",
       "        <tr>\n",
       "        \n",
       "          <th>group</th>\n",
       "        \n",
       "          <th>lib.size</th>\n",
       "        \n",
       "          <th>norm.factors</th>\n",
       "        \n",
       "        </tr>\n",
       "      </thead>\n",
       "      <tbody>\n",
       "      \n",
       "      <tr>\n",
       "      \n",
       "      <td>\n",
       "        1\n",
       "      </td>\n",
       "      \n",
       "      <td>\n",
       "        21145798.000000\n",
       "      </td>\n",
       "      \n",
       "      <td>\n",
       "        1.059717\n",
       "      </td>\n",
       "      \n",
       "      </tr>\n",
       "      \n",
       "      <tr>\n",
       "      \n",
       "      <td>\n",
       "        2\n",
       "      </td>\n",
       "      \n",
       "      <td>\n",
       "        19389307.000000\n",
       "      </td>\n",
       "      \n",
       "      <td>\n",
       "        1.027536\n",
       "      </td>\n",
       "      \n",
       "      </tr>\n",
       "      \n",
       "      <tr>\n",
       "      \n",
       "      <td>\n",
       "        1\n",
       "      </td>\n",
       "      \n",
       "      <td>\n",
       "        26065150.000000\n",
       "      </td>\n",
       "      \n",
       "      <td>\n",
       "        0.987919\n",
       "      </td>\n",
       "      \n",
       "      </tr>\n",
       "      \n",
       "      <tr>\n",
       "      \n",
       "      <td>\n",
       "        2\n",
       "      </td>\n",
       "      \n",
       "      <td>\n",
       "        15683017.000000\n",
       "      </td>\n",
       "      \n",
       "      <td>\n",
       "        0.943791\n",
       "      </td>\n",
       "      \n",
       "      </tr>\n",
       "      \n",
       "      <tr>\n",
       "      \n",
       "      <td>\n",
       "        1\n",
       "      </td>\n",
       "      \n",
       "      <td>\n",
       "        25113970.000000\n",
       "      </td>\n",
       "      \n",
       "      <td>\n",
       "        1.027194\n",
       "      </td>\n",
       "      \n",
       "      </tr>\n",
       "      \n",
       "      <tr>\n",
       "      \n",
       "      <td>\n",
       "        2\n",
       "      </td>\n",
       "      \n",
       "      <td>\n",
       "        31824334.000000\n",
       "      </td>\n",
       "      \n",
       "      <td>\n",
       "        0.966761\n",
       "      </td>\n",
       "      \n",
       "      </tr>\n",
       "      \n",
       "      <tr>\n",
       "      \n",
       "      <td>\n",
       "        1\n",
       "      </td>\n",
       "      \n",
       "      <td>\n",
       "        19696377.000000\n",
       "      </td>\n",
       "      \n",
       "      <td>\n",
       "        1.029500\n",
       "      </td>\n",
       "      \n",
       "      </tr>\n",
       "      \n",
       "      <tr>\n",
       "      \n",
       "      <td>\n",
       "        2\n",
       "      </td>\n",
       "      \n",
       "      <td>\n",
       "        21889437.000000\n",
       "      </td>\n",
       "      \n",
       "      <td>\n",
       "        0.963425\n",
       "      </td>\n",
       "      \n",
       "      </tr>\n",
       "      \n",
       "      </tbody>\n",
       "    </table>\n",
       "    \n",
       "      </td>\n",
       "      </tr>\n",
       "      \n",
       "      </tbody>\n",
       "    </table>\n",
       "    "
      ],
      "text/plain": [
       "R object with classes: ('DGEList',) mapped to:\n",
       "<ListVector - Python:0x000001C8E87EFC48 / R:0x000001C8E679A6B0>\n",
       "[Matrix, DataFrame]\n",
       "  counts: <class 'rpy2.robjects.vectors.Matrix'>\n",
       "  R object with classes: ('matrix',) mapped to:\n",
       "<Matrix - Python:0x000001C8E87CBF48 / R:0x000001C8E54A0010>\n",
       "[     723,        0,      467,      347, ...,        0,        0,        0,        0]\n",
       "R object with classes: ('DGEList',) mapped to:\n",
       "<ListVector - Python:0x000001C8E87EFC48 / R:0x000001C8E679A6B0>\n",
       "[Matrix, DataFrame]"
      ]
     },
     "execution_count": 118,
     "metadata": {},
     "output_type": "execute_result"
    }
   ],
   "source": [
    "edger.calcNormFactors(dgelist)"
   ]
  },
  {
   "cell_type": "code",
   "execution_count": 170,
   "metadata": {
    "ExecuteTime": {
     "end_time": "2020-07-14T17:04:07.214161Z",
     "start_time": "2020-07-14T17:04:04.056453Z"
    }
   },
   "outputs": [],
   "source": [
    "robjects.r('''\n",
    "x <- read.delim(\"airway_scaledcounts_R.csv\",sep = \",\",row.names=\"symbol\")\n",
    "group <- factor(c(1,2,1,2,1,2,1,2))\n",
    "y <- DGEList(counts=x,group=group)\n",
    "keep <- filterByExpr(y)\n",
    "y <- y[keep,,keep.lib.sizes=FALSE]\n",
    "y <- calcNormFactors(y)\n",
    "design <- model.matrix(~group)\n",
    "y <- estimateDisp(y,design)\n",
    "''');"
   ]
  },
  {
   "cell_type": "code",
   "execution_count": 171,
   "metadata": {
    "ExecuteTime": {
     "end_time": "2020-07-14T17:04:09.666954Z",
     "start_time": "2020-07-14T17:04:09.493924Z"
    }
   },
   "outputs": [],
   "source": [
    "robjects.r('''\n",
    "fit <- glmQLFit(y,design)\n",
    "qlf <- glmQLFTest(fit,coef=2)\n",
    "top <- topTags(qlf)\n",
    "gene_names <- row.names(top)\n",
    "''');"
   ]
  },
  {
   "cell_type": "code",
   "execution_count": 186,
   "metadata": {
    "ExecuteTime": {
     "end_time": "2020-07-14T18:50:21.643877Z",
     "start_time": "2020-07-14T18:50:19.751485Z"
    }
   },
   "outputs": [
    {
     "name": "stdout",
     "output_type": "stream",
     "text": [
      "querying 1-10...done.\n",
      "Finished.\n"
     ]
    },
    {
     "data": {
      "text/html": [
       "<div>\n",
       "<style scoped>\n",
       "    .dataframe tbody tr th:only-of-type {\n",
       "        vertical-align: middle;\n",
       "    }\n",
       "\n",
       "    .dataframe tbody tr th {\n",
       "        vertical-align: top;\n",
       "    }\n",
       "\n",
       "    .dataframe thead th {\n",
       "        text-align: right;\n",
       "    }\n",
       "</style>\n",
       "<table border=\"1\" class=\"dataframe\">\n",
       "  <thead>\n",
       "    <tr style=\"text-align: right;\">\n",
       "      <th></th>\n",
       "      <th>logFC</th>\n",
       "      <th>logCPM</th>\n",
       "      <th>F</th>\n",
       "      <th>PValue</th>\n",
       "      <th>FDR</th>\n",
       "    </tr>\n",
       "  </thead>\n",
       "  <tbody>\n",
       "    <tr>\n",
       "      <th>PER1</th>\n",
       "      <td>2.864503</td>\n",
       "      <td>5.079485</td>\n",
       "      <td>311.015454</td>\n",
       "      <td>4.185936e-08</td>\n",
       "      <td>0.000352</td>\n",
       "    </tr>\n",
       "    <tr>\n",
       "      <th>SPARCL1</th>\n",
       "      <td>4.366974</td>\n",
       "      <td>5.440028</td>\n",
       "      <td>302.732544</td>\n",
       "      <td>4.693055e-08</td>\n",
       "      <td>0.000352</td>\n",
       "    </tr>\n",
       "    <tr>\n",
       "      <th>ARHGEF2</th>\n",
       "      <td>-1.035587</td>\n",
       "      <td>6.694059</td>\n",
       "      <td>248.691728</td>\n",
       "      <td>1.076859e-07</td>\n",
       "      <td>0.000352</td>\n",
       "    </tr>\n",
       "    <tr>\n",
       "      <th>MAOA</th>\n",
       "      <td>3.341153</td>\n",
       "      <td>6.759023</td>\n",
       "      <td>235.915685</td>\n",
       "      <td>1.344471e-07</td>\n",
       "      <td>0.000352</td>\n",
       "    </tr>\n",
       "    <tr>\n",
       "      <th>PHC2</th>\n",
       "      <td>1.439419</td>\n",
       "      <td>7.058140</td>\n",
       "      <td>234.724780</td>\n",
       "      <td>1.373386e-07</td>\n",
       "      <td>0.000352</td>\n",
       "    </tr>\n",
       "    <tr>\n",
       "      <th>DUSP1</th>\n",
       "      <td>2.964412</td>\n",
       "      <td>7.287927</td>\n",
       "      <td>213.816591</td>\n",
       "      <td>2.031771e-07</td>\n",
       "      <td>0.000352</td>\n",
       "    </tr>\n",
       "    <tr>\n",
       "      <th>KCTD12</th>\n",
       "      <td>-2.489460</td>\n",
       "      <td>6.931440</td>\n",
       "      <td>213.157922</td>\n",
       "      <td>2.058212e-07</td>\n",
       "      <td>0.000352</td>\n",
       "    </tr>\n",
       "    <tr>\n",
       "      <th>DNM1</th>\n",
       "      <td>-1.850263</td>\n",
       "      <td>5.492352</td>\n",
       "      <td>205.215346</td>\n",
       "      <td>2.412973e-07</td>\n",
       "      <td>0.000352</td>\n",
       "    </tr>\n",
       "    <tr>\n",
       "      <th>SMIM3</th>\n",
       "      <td>1.278675</td>\n",
       "      <td>5.674972</td>\n",
       "      <td>197.252430</td>\n",
       "      <td>2.847255e-07</td>\n",
       "      <td>0.000352</td>\n",
       "    </tr>\n",
       "    <tr>\n",
       "      <th>STOM</th>\n",
       "      <td>1.426753</td>\n",
       "      <td>9.259155</td>\n",
       "      <td>196.909215</td>\n",
       "      <td>2.868050e-07</td>\n",
       "      <td>0.000352</td>\n",
       "    </tr>\n",
       "  </tbody>\n",
       "</table>\n",
       "</div>"
      ],
      "text/plain": [
       "            logFC    logCPM           F        PValue       FDR\n",
       "PER1     2.864503  5.079485  311.015454  4.185936e-08  0.000352\n",
       "SPARCL1  4.366974  5.440028  302.732544  4.693055e-08  0.000352\n",
       "ARHGEF2 -1.035587  6.694059  248.691728  1.076859e-07  0.000352\n",
       "MAOA     3.341153  6.759023  235.915685  1.344471e-07  0.000352\n",
       "PHC2     1.439419  7.058140  234.724780  1.373386e-07  0.000352\n",
       "DUSP1    2.964412  7.287927  213.816591  2.031771e-07  0.000352\n",
       "KCTD12  -2.489460  6.931440  213.157922  2.058212e-07  0.000352\n",
       "DNM1    -1.850263  5.492352  205.215346  2.412973e-07  0.000352\n",
       "SMIM3    1.278675  5.674972  197.252430  2.847255e-07  0.000352\n",
       "STOM     1.426753  9.259155  196.909215  2.868050e-07  0.000352"
      ]
     },
     "execution_count": 186,
     "metadata": {},
     "output_type": "execute_result"
    }
   ],
   "source": [
    "from rpy2.robjects import pandas2ri\n",
    "import mygene\n",
    "\n",
    "top = robjects.r['top']\n",
    "top_df = pd.DataFrame(pandas2ri.ri2py_vector(top[0]))\n",
    "\n",
    "g_names = robjects.r['gene_names']\n",
    "g_names = list(g_names)\n",
    "\n",
    "mg = mygene.MyGeneInfo()\n",
    "gene_dict = mg.querymany(g_names,scopes='ensembl.gene')\n",
    "trans_g_names = [gene_dict[i][\"symbol\"] for i in range(len(g_names))]\n",
    "top_df.index = trans_g_names\n",
    "\n",
    "top_df"
   ]
  }
 ],
 "metadata": {
  "kernelspec": {
   "display_name": "Python 3",
   "language": "python",
   "name": "python3"
  },
  "language_info": {
   "codemirror_mode": {
    "name": "ipython",
    "version": 3
   },
   "file_extension": ".py",
   "mimetype": "text/x-python",
   "name": "python",
   "nbconvert_exporter": "python",
   "pygments_lexer": "ipython3",
   "version": "3.7.7"
  },
  "toc": {
   "base_numbering": 1,
   "nav_menu": {},
   "number_sections": true,
   "sideBar": true,
   "skip_h1_title": false,
   "title_cell": "Table of Contents",
   "title_sidebar": "Contents",
   "toc_cell": false,
   "toc_position": {},
   "toc_section_display": true,
   "toc_window_display": false
  }
 },
 "nbformat": 4,
 "nbformat_minor": 4
}
