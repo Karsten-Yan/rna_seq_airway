{
 "cells": [
  {
   "cell_type": "code",
   "execution_count": 134,
   "metadata": {
    "ExecuteTime": {
     "end_time": "2020-07-13T14:11:37.088820Z",
     "start_time": "2020-07-13T14:11:36.723804Z"
    }
   },
   "outputs": [],
   "source": [
    "import pandas as pd\n",
    "import numpy as np\n",
    "import matplotlib.pyplot as plt\n",
    "import seaborn as sns"
   ]
  },
  {
   "cell_type": "code",
   "execution_count": 60,
   "metadata": {
    "ExecuteTime": {
     "end_time": "2020-07-13T13:44:18.027152Z",
     "start_time": "2020-07-13T13:44:17.975150Z"
    }
   },
   "outputs": [],
   "source": [
    "df = pd.read_csv(\"airway_scaledcounts.csv\")\n",
    "df_meta = pd.read_csv(\"airway_metadata.csv\")"
   ]
  },
  {
   "cell_type": "code",
   "execution_count": 61,
   "metadata": {
    "ExecuteTime": {
     "end_time": "2020-07-13T13:44:18.288147Z",
     "start_time": "2020-07-13T13:44:18.271154Z"
    }
   },
   "outputs": [],
   "source": [
    "df = df.set_index(\"ensgene\").T.reset_index()"
   ]
  },
  {
   "cell_type": "code",
   "execution_count": 62,
   "metadata": {
    "ExecuteTime": {
     "end_time": "2020-07-13T13:44:19.588745Z",
     "start_time": "2020-07-13T13:44:19.583753Z"
    }
   },
   "outputs": [],
   "source": [
    "data = pd.concat([df_meta, df], axis = 1)"
   ]
  },
  {
   "cell_type": "code",
   "execution_count": 113,
   "metadata": {
    "ExecuteTime": {
     "end_time": "2020-07-13T14:01:26.573474Z",
     "start_time": "2020-07-13T14:00:59.319830Z"
    }
   },
   "outputs": [],
   "source": [
    "clean_data = pd.DataFrame()\n",
    "for c in data.columns:\n",
    "    if data[c].dtype == object:\n",
    "        clean_data[c] = data[c]\n",
    "    if data[c].dtype == float and np.sum(data[c]) > 10:\n",
    "        clean_data[c] = data[c]"
   ]
  },
  {
   "cell_type": "code",
   "execution_count": 119,
   "metadata": {
    "ExecuteTime": {
     "end_time": "2020-07-13T14:03:31.105099Z",
     "start_time": "2020-07-13T14:03:31.080093Z"
    }
   },
   "outputs": [
    {
     "data": {
      "text/html": [
       "<div>\n",
       "<style scoped>\n",
       "    .dataframe tbody tr th:only-of-type {\n",
       "        vertical-align: middle;\n",
       "    }\n",
       "\n",
       "    .dataframe tbody tr th {\n",
       "        vertical-align: top;\n",
       "    }\n",
       "\n",
       "    .dataframe thead th {\n",
       "        text-align: right;\n",
       "    }\n",
       "</style>\n",
       "<table border=\"1\" class=\"dataframe\">\n",
       "  <thead>\n",
       "    <tr style=\"text-align: right;\">\n",
       "      <th></th>\n",
       "      <th>id</th>\n",
       "      <th>dex</th>\n",
       "      <th>celltype</th>\n",
       "      <th>geo_id</th>\n",
       "      <th>index</th>\n",
       "      <th>ENSG00000000003</th>\n",
       "      <th>ENSG00000000419</th>\n",
       "      <th>ENSG00000000457</th>\n",
       "      <th>ENSG00000000460</th>\n",
       "      <th>ENSG00000000971</th>\n",
       "      <th>...</th>\n",
       "      <th>ENSG00000283070</th>\n",
       "      <th>ENSG00000283085</th>\n",
       "      <th>ENSG00000283086</th>\n",
       "      <th>ENSG00000283087</th>\n",
       "      <th>ENSG00000283088</th>\n",
       "      <th>ENSG00000283091</th>\n",
       "      <th>ENSG00000283094</th>\n",
       "      <th>ENSG00000283100</th>\n",
       "      <th>ENSG00000283101</th>\n",
       "      <th>ENSG00000283104</th>\n",
       "    </tr>\n",
       "  </thead>\n",
       "  <tbody>\n",
       "    <tr>\n",
       "      <th>0</th>\n",
       "      <td>SRR1039508</td>\n",
       "      <td>control</td>\n",
       "      <td>N61311</td>\n",
       "      <td>GSM1275862</td>\n",
       "      <td>SRR1039508</td>\n",
       "      <td>723.0</td>\n",
       "      <td>467.0</td>\n",
       "      <td>347.0</td>\n",
       "      <td>96.0</td>\n",
       "      <td>3413.0</td>\n",
       "      <td>...</td>\n",
       "      <td>4.0</td>\n",
       "      <td>1260.0</td>\n",
       "      <td>4.0</td>\n",
       "      <td>190.0</td>\n",
       "      <td>1.0</td>\n",
       "      <td>51.0</td>\n",
       "      <td>2187.0</td>\n",
       "      <td>647.0</td>\n",
       "      <td>3.0</td>\n",
       "      <td>71.0</td>\n",
       "    </tr>\n",
       "    <tr>\n",
       "      <th>1</th>\n",
       "      <td>SRR1039509</td>\n",
       "      <td>treated</td>\n",
       "      <td>N61311</td>\n",
       "      <td>GSM1275863</td>\n",
       "      <td>SRR1039509</td>\n",
       "      <td>486.0</td>\n",
       "      <td>523.0</td>\n",
       "      <td>258.0</td>\n",
       "      <td>81.0</td>\n",
       "      <td>3916.0</td>\n",
       "      <td>...</td>\n",
       "      <td>0.0</td>\n",
       "      <td>774.0</td>\n",
       "      <td>5.0</td>\n",
       "      <td>182.0</td>\n",
       "      <td>13.0</td>\n",
       "      <td>42.0</td>\n",
       "      <td>1536.0</td>\n",
       "      <td>570.0</td>\n",
       "      <td>3.0</td>\n",
       "      <td>70.0</td>\n",
       "    </tr>\n",
       "    <tr>\n",
       "      <th>2</th>\n",
       "      <td>SRR1039512</td>\n",
       "      <td>control</td>\n",
       "      <td>N052611</td>\n",
       "      <td>GSM1275866</td>\n",
       "      <td>SRR1039512</td>\n",
       "      <td>904.0</td>\n",
       "      <td>616.0</td>\n",
       "      <td>364.0</td>\n",
       "      <td>73.0</td>\n",
       "      <td>6000.0</td>\n",
       "      <td>...</td>\n",
       "      <td>7.0</td>\n",
       "      <td>1034.0</td>\n",
       "      <td>10.0</td>\n",
       "      <td>332.0</td>\n",
       "      <td>72.0</td>\n",
       "      <td>79.0</td>\n",
       "      <td>2491.0</td>\n",
       "      <td>645.0</td>\n",
       "      <td>9.0</td>\n",
       "      <td>116.0</td>\n",
       "    </tr>\n",
       "    <tr>\n",
       "      <th>3</th>\n",
       "      <td>SRR1039513</td>\n",
       "      <td>treated</td>\n",
       "      <td>N052611</td>\n",
       "      <td>GSM1275867</td>\n",
       "      <td>SRR1039513</td>\n",
       "      <td>445.0</td>\n",
       "      <td>371.0</td>\n",
       "      <td>237.0</td>\n",
       "      <td>66.0</td>\n",
       "      <td>4308.0</td>\n",
       "      <td>...</td>\n",
       "      <td>6.0</td>\n",
       "      <td>437.0</td>\n",
       "      <td>1.0</td>\n",
       "      <td>187.0</td>\n",
       "      <td>13.0</td>\n",
       "      <td>34.0</td>\n",
       "      <td>1253.0</td>\n",
       "      <td>369.0</td>\n",
       "      <td>10.0</td>\n",
       "      <td>45.0</td>\n",
       "    </tr>\n",
       "    <tr>\n",
       "      <th>4</th>\n",
       "      <td>SRR1039516</td>\n",
       "      <td>control</td>\n",
       "      <td>N080611</td>\n",
       "      <td>GSM1275870</td>\n",
       "      <td>SRR1039516</td>\n",
       "      <td>1170.0</td>\n",
       "      <td>582.0</td>\n",
       "      <td>318.0</td>\n",
       "      <td>118.0</td>\n",
       "      <td>6424.0</td>\n",
       "      <td>...</td>\n",
       "      <td>5.0</td>\n",
       "      <td>1057.0</td>\n",
       "      <td>6.0</td>\n",
       "      <td>332.0</td>\n",
       "      <td>47.0</td>\n",
       "      <td>87.0</td>\n",
       "      <td>2316.0</td>\n",
       "      <td>688.0</td>\n",
       "      <td>4.0</td>\n",
       "      <td>95.0</td>\n",
       "    </tr>\n",
       "    <tr>\n",
       "      <th>5</th>\n",
       "      <td>SRR1039517</td>\n",
       "      <td>treated</td>\n",
       "      <td>N080611</td>\n",
       "      <td>GSM1275871</td>\n",
       "      <td>SRR1039517</td>\n",
       "      <td>1097.0</td>\n",
       "      <td>781.0</td>\n",
       "      <td>447.0</td>\n",
       "      <td>94.0</td>\n",
       "      <td>10723.0</td>\n",
       "      <td>...</td>\n",
       "      <td>5.0</td>\n",
       "      <td>1129.0</td>\n",
       "      <td>10.0</td>\n",
       "      <td>390.0</td>\n",
       "      <td>62.0</td>\n",
       "      <td>96.0</td>\n",
       "      <td>2026.0</td>\n",
       "      <td>670.0</td>\n",
       "      <td>13.0</td>\n",
       "      <td>83.0</td>\n",
       "    </tr>\n",
       "    <tr>\n",
       "      <th>6</th>\n",
       "      <td>SRR1039520</td>\n",
       "      <td>control</td>\n",
       "      <td>N061011</td>\n",
       "      <td>GSM1275874</td>\n",
       "      <td>SRR1039520</td>\n",
       "      <td>806.0</td>\n",
       "      <td>417.0</td>\n",
       "      <td>330.0</td>\n",
       "      <td>102.0</td>\n",
       "      <td>5039.0</td>\n",
       "      <td>...</td>\n",
       "      <td>1.0</td>\n",
       "      <td>1009.0</td>\n",
       "      <td>3.0</td>\n",
       "      <td>156.0</td>\n",
       "      <td>36.0</td>\n",
       "      <td>55.0</td>\n",
       "      <td>2000.0</td>\n",
       "      <td>550.0</td>\n",
       "      <td>7.0</td>\n",
       "      <td>84.0</td>\n",
       "    </tr>\n",
       "    <tr>\n",
       "      <th>7</th>\n",
       "      <td>SRR1039521</td>\n",
       "      <td>treated</td>\n",
       "      <td>N061011</td>\n",
       "      <td>GSM1275875</td>\n",
       "      <td>SRR1039521</td>\n",
       "      <td>604.0</td>\n",
       "      <td>509.0</td>\n",
       "      <td>324.0</td>\n",
       "      <td>74.0</td>\n",
       "      <td>7803.0</td>\n",
       "      <td>...</td>\n",
       "      <td>3.0</td>\n",
       "      <td>722.0</td>\n",
       "      <td>2.0</td>\n",
       "      <td>239.0</td>\n",
       "      <td>33.0</td>\n",
       "      <td>51.0</td>\n",
       "      <td>1529.0</td>\n",
       "      <td>572.0</td>\n",
       "      <td>7.0</td>\n",
       "      <td>79.0</td>\n",
       "    </tr>\n",
       "  </tbody>\n",
       "</table>\n",
       "<p>8 rows × 19088 columns</p>\n",
       "</div>"
      ],
      "text/plain": [
       "           id      dex celltype      geo_id       index  ENSG00000000003  \\\n",
       "0  SRR1039508  control   N61311  GSM1275862  SRR1039508            723.0   \n",
       "1  SRR1039509  treated   N61311  GSM1275863  SRR1039509            486.0   \n",
       "2  SRR1039512  control  N052611  GSM1275866  SRR1039512            904.0   \n",
       "3  SRR1039513  treated  N052611  GSM1275867  SRR1039513            445.0   \n",
       "4  SRR1039516  control  N080611  GSM1275870  SRR1039516           1170.0   \n",
       "5  SRR1039517  treated  N080611  GSM1275871  SRR1039517           1097.0   \n",
       "6  SRR1039520  control  N061011  GSM1275874  SRR1039520            806.0   \n",
       "7  SRR1039521  treated  N061011  GSM1275875  SRR1039521            604.0   \n",
       "\n",
       "   ENSG00000000419  ENSG00000000457  ENSG00000000460  ENSG00000000971  ...  \\\n",
       "0            467.0            347.0             96.0           3413.0  ...   \n",
       "1            523.0            258.0             81.0           3916.0  ...   \n",
       "2            616.0            364.0             73.0           6000.0  ...   \n",
       "3            371.0            237.0             66.0           4308.0  ...   \n",
       "4            582.0            318.0            118.0           6424.0  ...   \n",
       "5            781.0            447.0             94.0          10723.0  ...   \n",
       "6            417.0            330.0            102.0           5039.0  ...   \n",
       "7            509.0            324.0             74.0           7803.0  ...   \n",
       "\n",
       "   ENSG00000283070  ENSG00000283085  ENSG00000283086  ENSG00000283087  \\\n",
       "0              4.0           1260.0              4.0            190.0   \n",
       "1              0.0            774.0              5.0            182.0   \n",
       "2              7.0           1034.0             10.0            332.0   \n",
       "3              6.0            437.0              1.0            187.0   \n",
       "4              5.0           1057.0              6.0            332.0   \n",
       "5              5.0           1129.0             10.0            390.0   \n",
       "6              1.0           1009.0              3.0            156.0   \n",
       "7              3.0            722.0              2.0            239.0   \n",
       "\n",
       "   ENSG00000283088  ENSG00000283091  ENSG00000283094  ENSG00000283100  \\\n",
       "0              1.0             51.0           2187.0            647.0   \n",
       "1             13.0             42.0           1536.0            570.0   \n",
       "2             72.0             79.0           2491.0            645.0   \n",
       "3             13.0             34.0           1253.0            369.0   \n",
       "4             47.0             87.0           2316.0            688.0   \n",
       "5             62.0             96.0           2026.0            670.0   \n",
       "6             36.0             55.0           2000.0            550.0   \n",
       "7             33.0             51.0           1529.0            572.0   \n",
       "\n",
       "   ENSG00000283101  ENSG00000283104  \n",
       "0              3.0             71.0  \n",
       "1              3.0             70.0  \n",
       "2              9.0            116.0  \n",
       "3             10.0             45.0  \n",
       "4              4.0             95.0  \n",
       "5             13.0             83.0  \n",
       "6              7.0             84.0  \n",
       "7              7.0             79.0  \n",
       "\n",
       "[8 rows x 19088 columns]"
      ]
     },
     "execution_count": 119,
     "metadata": {},
     "output_type": "execute_result"
    }
   ],
   "source": [
    "clean_data"
   ]
  },
  {
   "cell_type": "code",
   "execution_count": 121,
   "metadata": {
    "ExecuteTime": {
     "end_time": "2020-07-13T14:04:44.714095Z",
     "start_time": "2020-07-13T14:04:44.711096Z"
    }
   },
   "outputs": [],
   "source": [
    "pca = PCA(n_components=2)"
   ]
  },
  {
   "cell_type": "code",
   "execution_count": 124,
   "metadata": {
    "ExecuteTime": {
     "end_time": "2020-07-13T14:06:54.017505Z",
     "start_time": "2020-07-13T14:06:54.000499Z"
    }
   },
   "outputs": [],
   "source": [
    "clean_data_numeric = list(clean_data.columns[clean_data.dtypes ==  \"float\"])"
   ]
  },
  {
   "cell_type": "code",
   "execution_count": 126,
   "metadata": {
    "ExecuteTime": {
     "end_time": "2020-07-13T14:07:10.667625Z",
     "start_time": "2020-07-13T14:07:10.557828Z"
    }
   },
   "outputs": [
    {
     "data": {
      "text/plain": [
       "PCA(copy=True, iterated_power='auto', n_components=2, random_state=None,\n",
       "    svd_solver='auto', tol=0.0, whiten=False)"
      ]
     },
     "execution_count": 126,
     "metadata": {},
     "output_type": "execute_result"
    }
   ],
   "source": [
    "pca.fit(clean_data[clean_data_numeric])"
   ]
  },
  {
   "cell_type": "code",
   "execution_count": 149,
   "metadata": {
    "ExecuteTime": {
     "end_time": "2020-07-13T14:15:19.996383Z",
     "start_time": "2020-07-13T14:15:19.962376Z"
    }
   },
   "outputs": [],
   "source": [
    "data_pca = pca.transform(clean_data[clean_data_numeric])"
   ]
  },
  {
   "cell_type": "code",
   "execution_count": 151,
   "metadata": {
    "ExecuteTime": {
     "end_time": "2020-07-13T14:15:39.191126Z",
     "start_time": "2020-07-13T14:15:39.187125Z"
    }
   },
   "outputs": [],
   "source": [
    "data_pca = pd.concat([df_meta,pd.DataFrame(data_pca, columns = [\"pca_1\",\"pca_2\"])],axis = 1, )"
   ]
  },
  {
   "cell_type": "code",
   "execution_count": 152,
   "metadata": {
    "ExecuteTime": {
     "end_time": "2020-07-13T14:15:43.245439Z",
     "start_time": "2020-07-13T14:15:43.234436Z"
    }
   },
   "outputs": [
    {
     "data": {
      "text/html": [
       "<div>\n",
       "<style scoped>\n",
       "    .dataframe tbody tr th:only-of-type {\n",
       "        vertical-align: middle;\n",
       "    }\n",
       "\n",
       "    .dataframe tbody tr th {\n",
       "        vertical-align: top;\n",
       "    }\n",
       "\n",
       "    .dataframe thead th {\n",
       "        text-align: right;\n",
       "    }\n",
       "</style>\n",
       "<table border=\"1\" class=\"dataframe\">\n",
       "  <thead>\n",
       "    <tr style=\"text-align: right;\">\n",
       "      <th></th>\n",
       "      <th>id</th>\n",
       "      <th>dex</th>\n",
       "      <th>celltype</th>\n",
       "      <th>geo_id</th>\n",
       "      <th>pca_1</th>\n",
       "      <th>pca_2</th>\n",
       "    </tr>\n",
       "  </thead>\n",
       "  <tbody>\n",
       "    <tr>\n",
       "      <th>0</th>\n",
       "      <td>SRR1039508</td>\n",
       "      <td>control</td>\n",
       "      <td>N61311</td>\n",
       "      <td>GSM1275862</td>\n",
       "      <td>-123946.970519</td>\n",
       "      <td>167060.714108</td>\n",
       "    </tr>\n",
       "    <tr>\n",
       "      <th>1</th>\n",
       "      <td>SRR1039509</td>\n",
       "      <td>treated</td>\n",
       "      <td>N61311</td>\n",
       "      <td>GSM1275863</td>\n",
       "      <td>-234479.248036</td>\n",
       "      <td>-9961.274495</td>\n",
       "    </tr>\n",
       "    <tr>\n",
       "      <th>2</th>\n",
       "      <td>SRR1039512</td>\n",
       "      <td>control</td>\n",
       "      <td>N052611</td>\n",
       "      <td>GSM1275866</td>\n",
       "      <td>222198.305914</td>\n",
       "      <td>51290.650562</td>\n",
       "    </tr>\n",
       "    <tr>\n",
       "      <th>3</th>\n",
       "      <td>SRR1039513</td>\n",
       "      <td>treated</td>\n",
       "      <td>N052611</td>\n",
       "      <td>GSM1275867</td>\n",
       "      <td>-259110.419475</td>\n",
       "      <td>-145412.994316</td>\n",
       "    </tr>\n",
       "    <tr>\n",
       "      <th>4</th>\n",
       "      <td>SRR1039516</td>\n",
       "      <td>control</td>\n",
       "      <td>N080611</td>\n",
       "      <td>GSM1275870</td>\n",
       "      <td>174242.011941</td>\n",
       "      <td>234978.153619</td>\n",
       "    </tr>\n",
       "    <tr>\n",
       "      <th>5</th>\n",
       "      <td>SRR1039517</td>\n",
       "      <td>treated</td>\n",
       "      <td>N080611</td>\n",
       "      <td>GSM1275871</td>\n",
       "      <td>372632.158110</td>\n",
       "      <td>-207292.079183</td>\n",
       "    </tr>\n",
       "    <tr>\n",
       "      <th>6</th>\n",
       "      <td>SRR1039520</td>\n",
       "      <td>control</td>\n",
       "      <td>N061011</td>\n",
       "      <td>GSM1275874</td>\n",
       "      <td>-80841.216944</td>\n",
       "      <td>80079.097886</td>\n",
       "    </tr>\n",
       "    <tr>\n",
       "      <th>7</th>\n",
       "      <td>SRR1039521</td>\n",
       "      <td>treated</td>\n",
       "      <td>N061011</td>\n",
       "      <td>GSM1275875</td>\n",
       "      <td>-70694.620990</td>\n",
       "      <td>-170742.268181</td>\n",
       "    </tr>\n",
       "  </tbody>\n",
       "</table>\n",
       "</div>"
      ],
      "text/plain": [
       "           id      dex celltype      geo_id          pca_1          pca_2\n",
       "0  SRR1039508  control   N61311  GSM1275862 -123946.970519  167060.714108\n",
       "1  SRR1039509  treated   N61311  GSM1275863 -234479.248036   -9961.274495\n",
       "2  SRR1039512  control  N052611  GSM1275866  222198.305914   51290.650562\n",
       "3  SRR1039513  treated  N052611  GSM1275867 -259110.419475 -145412.994316\n",
       "4  SRR1039516  control  N080611  GSM1275870  174242.011941  234978.153619\n",
       "5  SRR1039517  treated  N080611  GSM1275871  372632.158110 -207292.079183\n",
       "6  SRR1039520  control  N061011  GSM1275874  -80841.216944   80079.097886\n",
       "7  SRR1039521  treated  N061011  GSM1275875  -70694.620990 -170742.268181"
      ]
     },
     "execution_count": 152,
     "metadata": {},
     "output_type": "execute_result"
    }
   ],
   "source": [
    "data_pca"
   ]
  },
  {
   "cell_type": "code",
   "execution_count": 157,
   "metadata": {
    "ExecuteTime": {
     "end_time": "2020-07-13T14:17:14.291283Z",
     "start_time": "2020-07-13T14:17:14.137250Z"
    }
   },
   "outputs": [
    {
     "data": {
      "text/plain": [
       "<matplotlib.axes._subplots.AxesSubplot at 0x210a24bb108>"
      ]
     },
     "execution_count": 157,
     "metadata": {},
     "output_type": "execute_result"
    },
    {
     "data": {
      "image/png": "[encoded data removed]",
      "text/plain": [
       "<Figure size 432x288 with 1 Axes>"
      ]
     },
     "metadata": {
      "needs_background": "light"
     },
     "output_type": "display_data"
    }
   ],
   "source": [
    "sns.scatterplot(data_pca[\"pca_1\"], data_pca[\"pca_2\"], hue=data_pca.dex)"
   ]
  },
  {
   "cell_type": "code",
   "execution_count": null,
   "metadata": {},
   "outputs": [],
   "source": []
  }
 ],
 "metadata": {
  "kernelspec": {
   "display_name": "Python 3",
   "language": "python",
   "name": "python3"
  },
  "language_info": {
   "codemirror_mode": {
    "name": "ipython",
    "version": 3
   },
   "file_extension": ".py",
   "mimetype": "text/x-python",
   "name": "python",
   "nbconvert_exporter": "python",
   "pygments_lexer": "ipython3",
   "version": "3.7.7"
  },
  "toc": {
   "base_numbering": 1,
   "nav_menu": {},
   "number_sections": true,
   "sideBar": true,
   "skip_h1_title": false,
   "title_cell": "Table of Contents",
   "title_sidebar": "Contents",
   "toc_cell": false,
   "toc_position": {},
   "toc_section_display": true,
   "toc_window_display": false
  }
 },
 "nbformat": 4,
 "nbformat_minor": 4
}
